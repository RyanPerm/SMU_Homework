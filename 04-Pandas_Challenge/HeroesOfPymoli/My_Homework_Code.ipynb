{
 "cells": [
  {
   "cell_type": "code",
   "execution_count": null,
   "metadata": {},
   "outputs": [],
   "source": [
    "# Dependencies and Setup\n",
    "import pandas as pd\n",
    "\n",
    "# File to Load (Remember to Change These)\n",
    "filepath = \"Resources/purchase_data.csv\"\n",
    "\n",
    "# Read Purchasing File and store into Pandas data frame\n",
    "df = pd.read_csv(filepath)"
   ]
  },
  {
   "cell_type": "code",
   "execution_count": null,
   "metadata": {},
   "outputs": [],
   "source": [
    "df.head()"
   ]
  },
  {
   "cell_type": "code",
   "execution_count": null,
   "metadata": {},
   "outputs": [],
   "source": [
    "df.shape"
   ]
  },
  {
   "cell_type": "code",
   "execution_count": null,
   "metadata": {},
   "outputs": [],
   "source": [
    "df.describe()"
   ]
  },
  {
   "cell_type": "code",
   "execution_count": null,
   "metadata": {},
   "outputs": [],
   "source": [
    "df.info()"
   ]
  },
  {
   "cell_type": "markdown",
   "metadata": {},
   "source": [
    "## Player Count"
   ]
  },
  {
   "cell_type": "code",
   "execution_count": null,
   "metadata": {},
   "outputs": [],
   "source": [
    "totalPlayers = len(df.SN.unique())\n",
    "totalPlayTable = pd.DataFrame()\n",
    "totalPlayTable[\"Total Players\"] = [totalPlayers]\n",
    "totalPlayTable"
   ]
  },
  {
   "cell_type": "markdown",
   "metadata": {},
   "source": [
    "## Purchasing Analysis (Total)"
   ]
  },
  {
   "cell_type": "code",
   "execution_count": null,
   "metadata": {},
   "outputs": [],
   "source": [
    "# obtain the data\n",
    "itemNum = len(df[\"Item ID\"].unique())\n",
    "avgCost = df.Price.mean()\n",
    "totalPurchased = len(df)\n",
    "totalRev = df.Price.sum()\n",
    "# Put in Data Table\n",
    "purchTable = pd.DataFrame()\n",
    "purchTable[\"Number of Unique Items\"] = [itemNum]\n",
    "purchTable[\"Average Price\"] = [avgCost]\n",
    "purchTable[\"Number of Purchases\"] = [totalPurchased]\n",
    "purchTable[\"Total Revenue\"] = [totalRev]\n",
    "# Format Data\n",
    "purchTable[\"Average Price\"] = purchTable[\"Average Price\"].map(\"${:.2f}\".format)\n",
    "purchTable[\"Total Revenue\"] = purchTable[\"Total Revenue\"].map(\"${:,.2f}\".format)\n",
    "\n",
    "purchTable"
   ]
  },
  {
   "cell_type": "markdown",
   "metadata": {},
   "source": [
    "## Gender Demographics"
   ]
  },
  {
   "cell_type": "code",
   "execution_count": null,
   "metadata": {},
   "outputs": [],
   "source": [
    "gender_df = df.groupby(['SN', 'Gender']).size().reset_index().rename(columns={0:\"Count\"})\n",
    "# obtain the data\n",
    "genderNum = gender_df.Gender.value_counts()\n",
    "genderPerc = genderNum / len(gender_df)\n",
    "# Put in Data Table\n",
    "genderTab = pd.DataFrame()\n",
    "genderTab[\"Total Count\"] = genderNum\n",
    "genderTab[\"Percentage of Players\"] = genderPerc * 100\n",
    "genderTab[\"Percentage of Players\"] = genderTab[\"Percentage of Players\"].map(\"{:.2f}%\".format)\n",
    "\n",
    "genderTab"
   ]
  },
  {
   "cell_type": "markdown",
   "metadata": {},
   "source": [
    "## Purchasing Analysis (Gender)"
   ]
  },
  {
   "cell_type": "code",
   "execution_count": null,
   "metadata": {},
   "outputs": [],
   "source": [
    "# obtain the data\n",
    "genderTotal = df.groupby(\"Gender\").size()\n",
    "genderAvgPrice = df.groupby(\"Gender\").Price.mean()\n",
    "genderTotalPrice = df.groupby(\"Gender\").Price.sum()\n",
    "avgPerPerson = df.groupby(\"Gender\").Price.sum() / genderTab[\"Total Count\"]\n",
    "# Put in Data Table\n",
    "genderPurchTable = pd.DataFrame()\n",
    "genderPurchTable[\"Purchase Count\"] = genderTotal\n",
    "\n",
    "genderPurchTable[\"Average Purchase Price\"] = genderAvgPrice\n",
    "genderPurchTable[\"Total Purchase Value\"] = genderTotalPrice\n",
    "genderPurchTable[\"Avg Total Purchase per Person\"] = avgPerPerson\n",
    "# Format Data\n",
    "genderPurchTable[\"Average Purchase Price\"] = genderPurchTable[\"Average Purchase Price\"].map(\"${:.2f}\".format)\n",
    "genderPurchTable[\"Total Purchase Value\"] = genderPurchTable[\"Total Purchase Value\"].map(\"${:,.2f}\".format)\n",
    "genderPurchTable[\"Avg Total Purchase per Person\"] = genderPurchTable[\"Avg Total Purchase per Person\"].map(\"${:.2f}\".format)\n",
    "\n",
    "\n",
    "genderPurchTable"
   ]
  },
  {
   "cell_type": "markdown",
   "metadata": {},
   "source": [
    "##  Age Demographics"
   ]
  },
  {
   "cell_type": "code",
   "execution_count": null,
   "metadata": {},
   "outputs": [],
   "source": [
    "bins = [0, 9, 14, 19, 24, 29, 34, 39, 50]\n",
    "group_labels = [\" <10\", \"10-14\", \"15-19\", \"20-24\", \"25-29\", \"30-34\", \"35-39\", \"40+\"]\n",
    "df[\"Age Group\"] = pd.cut(df[\"Age\"], bins, labels=group_labels).astype(str)\n",
    "age_df = df.groupby([\"SN\", \"Age Group\"]).size().reset_index().rename(columns={0:\"Count\"})\n",
    "# Put in Data Table\n",
    "ageGroupTab = age_df.groupby(\"Age Group\").size().reset_index().rename(columns={0:\"Total Count\"})\n",
    "ageGroupTab[\"Percentage of Players\"] = ageGroupTab[\"Total Count\"] / len(age_df) * 100\n",
    "ageGroupTab[\"Percentage of Players\"] = ageGroupTab[\"Percentage of Players\"].map(\"{:.2f}%\".format)\n",
    "ageGroupTab = ageGroupTab.set_index(\"Age Group\")\n",
    "ageGroupTab"
   ]
  },
  {
   "cell_type": "markdown",
   "metadata": {},
   "source": [
    "## Purchasing Analysis (Age)"
   ]
  },
  {
   "cell_type": "code",
   "execution_count": null,
   "metadata": {},
   "outputs": [],
   "source": [
    "# obtain the data\n",
    "ageTotal = df.groupby(\"Age Group\").size()\n",
    "ageAvgPrice = df.groupby(\"Age Group\").Price.mean()\n",
    "ageTotalPrice = df.groupby(\"Age Group\").Price.sum()\n",
    "ageAvPerPerson = df.groupby(\"Age Group\").Price.sum() / ageGroupTab[\"Total Count\"]\n",
    "# Put in Data Table\n",
    "PurchAnalysisTab = pd.DataFrame()\n",
    "PurchAnalysisTab[\"Purchase Count\"] = ageTotal\n",
    "PurchAnalysisTab[\"Average Purchase Price\"] = ageAvgPrice\n",
    "PurchAnalysisTab[\"Total Purchase Value\"] = ageTotalPrice\n",
    "PurchAnalysisTab[\"Avg Total Purchase per Person\"] = ageAvPerPerson\n",
    "# Format Data\n",
    "PurchAnalysisTab[\"Average Purchase Price\"] = PurchAnalysisTab[\"Average Purchase Price\"].map(\"${:.2f}\".format)\n",
    "PurchAnalysisTab[\"Total Purchase Value\"] = PurchAnalysisTab[\"Total Purchase Value\"].map(\"${:,.2f}\".format)\n",
    "PurchAnalysisTab[\"Avg Total Purchase per Person\"] = PurchAnalysisTab[\"Avg Total Purchase per Person\"].map(\"${:.2f}\".format)\n",
    "\n",
    "PurchAnalysisTab"
   ]
  },
  {
   "cell_type": "markdown",
   "metadata": {},
   "source": [
    "## Top Spenders"
   ]
  },
  {
   "cell_type": "code",
   "execution_count": null,
   "metadata": {},
   "outputs": [],
   "source": [
    "# obtain the data\n",
    "screeNameTotal = df.groupby(\"SN\").size()\n",
    "screeNameAvgPrice = df.groupby(\"SN\").Price.mean()\n",
    "screeNameTotalPrice = df.groupby(\"SN\").Price.sum()\n",
    "\n",
    "# Put in Data Table\n",
    "screenNamePurchTab = pd.DataFrame()\n",
    "screenNamePurchTab[\"Purchase Count\"] = screeNameTotal\n",
    "screenNamePurchTab[\"Average Purchase Price\"] = screeNameAvgPrice\n",
    "screenNamePurchTab[\"Total Purchase Value\"] = screeNameTotalPrice\n",
    "# Sort Data\n",
    "screenNamePurchTab = screenNamePurchTab.sort_values(by='Total Purchase Value', ascending=False)\n",
    "# Format Data\n",
    "screenNamePurchTab[\"Average Purchase Price\"] = screenNamePurchTab[\"Average Purchase Price\"].map(\"${:.2f}\".format)\n",
    "screenNamePurchTab[\"Total Purchase Value\"] = screenNamePurchTab[\"Total Purchase Value\"].map(\"${:,.2f}\".format)\n",
    "\n",
    "\n",
    "screenNamePurchTab.head()"
   ]
  },
  {
   "cell_type": "markdown",
   "metadata": {},
   "source": [
    "## Most Popular Items"
   ]
  },
  {
   "cell_type": "code",
   "execution_count": null,
   "metadata": {},
   "outputs": [],
   "source": [
    "# obtain the data\n",
    "itemTotal = df.groupby([\"Item ID\", \"Item Name\"]).size()\n",
    "itemAvgPrice = df.groupby([\"Item ID\", \"Item Name\"]).Price.mean()\n",
    "itemTotalPrice = df.groupby([\"Item ID\", \"Item Name\"]).Price.sum()\n",
    "\n",
    "# Put in Data Table\n",
    "itemPurchTab = pd.DataFrame()\n",
    "itemPurchTab[\"Purchase Count\"] = itemTotal\n",
    "itemPurchTab[\"Item Price\"] = itemAvgPrice\n",
    "itemPurchTab[\"Total Purchase Value\"] = itemTotalPrice\n",
    "# Sort Data\n",
    "itemPurchTab = itemPurchTab.sort_values(by='Purchase Count', ascending=False)\n",
    "# Format Data\n",
    "itemPurchTab[\"Item Price\"] = itemPurchTab[\"Item Price\"].map(\"${:,.2f}\".format)\n",
    "itemPurchTab[\"Total Purchase Value\"] = itemPurchTab[\"Total Purchase Value\"].map(\"${:,.2f}\".format)\n",
    "\n",
    "itemPurchTab.head()"
   ]
  },
  {
   "cell_type": "markdown",
   "metadata": {},
   "source": [
    "## Most Profitable Items"
   ]
  },
  {
   "cell_type": "code",
   "execution_count": null,
   "metadata": {},
   "outputs": [],
   "source": [
    "# obtain the data\n",
    "itemTotal = df.groupby([\"Item ID\", \"Item Name\"]).size()\n",
    "itemAvgPrice = df.groupby([\"Item ID\", \"Item Name\"]).Price.mean()\n",
    "itemTotalPrice = df.groupby([\"Item ID\", \"Item Name\"]).Price.sum()\n",
    "\n",
    "# Put in Data Table\n",
    "itemPurchTab = pd.DataFrame()\n",
    "itemPurchTab[\"Purchase Count\"] = itemTotal\n",
    "itemPurchTab[\"Item Price\"] = itemAvgPrice\n",
    "itemPurchTab[\"Total Purchase Value\"] = itemTotalPrice\n",
    "# Sort Data\n",
    "itemPurchTab = itemPurchTab.sort_values(by='Total Purchase Value', ascending=False)\n",
    "# Format Data\n",
    "itemPurchTab[\"Item Price\"] = itemPurchTab[\"Item Price\"].map(\"${:,.2f}\".format)\n",
    "itemPurchTab[\"Total Purchase Value\"] = itemPurchTab[\"Total Purchase Value\"].map(\"${:,.2f}\".format)\n",
    "\n",
    "itemPurchTab.head()"
   ]
  }
 ],
 "metadata": {
  "anaconda-cloud": {},
  "kernel_info": {
   "name": "python3"
  },
  "kernelspec": {
   "display_name": "Python 3",
   "language": "python",
   "name": "python3"
  },
  "language_info": {
   "codemirror_mode": {
    "name": "ipython",
    "version": 3
   },
   "file_extension": ".py",
   "mimetype": "text/x-python",
   "name": "python",
   "nbconvert_exporter": "python",
   "pygments_lexer": "ipython3",
   "version": "3.8.3"
  },
  "latex_envs": {
   "LaTeX_envs_menu_present": true,
   "autoclose": false,
   "autocomplete": true,
   "bibliofile": "biblio.bib",
   "cite_by": "apalike",
   "current_citInitial": 1,
   "eqLabelWithNumbers": true,
   "eqNumInitial": 1,
   "hotkeys": {
    "equation": "Ctrl-E",
    "itemize": "Ctrl-I"
   },
   "labels_anchors": false,
   "latex_user_defs": false,
   "report_style_numbering": false,
   "user_envs_cfg": false
  },
  "nteract": {
   "version": "0.2.0"
  }
 },
 "nbformat": 4,
 "nbformat_minor": 2
}
