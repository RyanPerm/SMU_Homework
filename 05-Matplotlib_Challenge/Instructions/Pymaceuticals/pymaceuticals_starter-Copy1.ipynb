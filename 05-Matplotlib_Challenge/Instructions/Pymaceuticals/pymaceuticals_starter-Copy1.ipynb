{
 "cells": [
  {
   "cell_type": "markdown",
   "metadata": {},
   "source": [
    "## Observations"
   ]
  },
  {
   "cell_type": "code",
   "execution_count": null,
   "metadata": {},
   "outputs": [],
   "source": [
    "# Capomulin and Ramicane are the most effective drugs.\n",
    "# Propiva and Stelasyn had one less mouse than the other drugs which results in less accurate data.\n",
    "# Propiva was the least effective drug, \n",
    "#  had the lowest average timepoint per mouse which means the mice are dieing faster than the other drugs."
   ]
  },
  {
   "cell_type": "markdown",
   "metadata": {},
   "source": [
    "## Code"
   ]
  },
  {
   "cell_type": "code",
   "execution_count": null,
   "metadata": {},
   "outputs": [],
   "source": [
    "# Dependencies and Setup\n",
    "import matplotlib.pyplot as plt\n",
    "import pandas as pd\n",
    "import seaborn as sns\n",
    "import scipy.stats as sts\n",
    "\n",
    "# Study data files\n",
    "mouse_metadata_path = \"data/Mouse_metadata.csv\"\n",
    "study_results_path = \"data/Study_results.csv\"\n",
    "\n",
    "# Read the mouse data and the study results\n",
    "mouse_metadata = pd.read_csv(mouse_metadata_path)\n",
    "study_results = pd.read_csv(study_results_path)\n"
   ]
  },
  {
   "cell_type": "code",
   "execution_count": null,
   "metadata": {},
   "outputs": [],
   "source": [
    "mouse_metadata.head()"
   ]
  },
  {
   "cell_type": "code",
   "execution_count": null,
   "metadata": {},
   "outputs": [],
   "source": [
    "mouse_metadata.shape"
   ]
  },
  {
   "cell_type": "code",
   "execution_count": null,
   "metadata": {},
   "outputs": [],
   "source": [
    "mouse_metadata.info()"
   ]
  },
  {
   "cell_type": "code",
   "execution_count": null,
   "metadata": {},
   "outputs": [],
   "source": [
    "study_results.head()"
   ]
  },
  {
   "cell_type": "code",
   "execution_count": null,
   "metadata": {},
   "outputs": [],
   "source": [
    "study_results.shape"
   ]
  },
  {
   "cell_type": "code",
   "execution_count": null,
   "metadata": {},
   "outputs": [],
   "source": [
    "study_results.info()"
   ]
  },
  {
   "cell_type": "code",
   "execution_count": null,
   "metadata": {},
   "outputs": [],
   "source": [
    "# Combine the data into a single dataset\n",
    "df = study_results.merge(mouse_metadata, on=\"Mouse ID\", how=\"inner\")\n",
    "# Display the data table for preview\n",
    "df.head(10)"
   ]
  },
  {
   "cell_type": "code",
   "execution_count": null,
   "metadata": {},
   "outputs": [],
   "source": [
    "df.info()"
   ]
  },
  {
   "cell_type": "code",
   "execution_count": null,
   "metadata": {},
   "outputs": [],
   "source": [
    "df[\"Mouse ID\"].value_counts()"
   ]
  },
  {
   "cell_type": "code",
   "execution_count": null,
   "metadata": {},
   "outputs": [],
   "source": [
    "# Checking the number of mice.\n",
    "df[\"Mouse ID\"].nunique()"
   ]
  },
  {
   "cell_type": "code",
   "execution_count": null,
   "metadata": {},
   "outputs": [],
   "source": [
    "# Getting the duplicate mice by ID number that shows up for Mouse ID and Timepoint. \n",
    "sum(df.duplicated(subset=['Mouse ID', 'Timepoint']))"
   ]
  },
  {
   "cell_type": "code",
   "execution_count": null,
   "metadata": {},
   "outputs": [],
   "source": [
    "(df['Mouse ID'] + df['Timepoint'].astype(str)).value_counts()"
   ]
  },
  {
   "cell_type": "code",
   "execution_count": null,
   "metadata": {},
   "outputs": [],
   "source": [
    "mask = df.duplicated(subset=['Mouse ID', 'Timepoint'])\n",
    "df.loc[mask]"
   ]
  },
  {
   "cell_type": "code",
   "execution_count": null,
   "metadata": {},
   "outputs": [],
   "source": [
    "# Optional: Get all the data for the duplicate mouse ID. \n",
    "df.iloc[860:873, :]"
   ]
  },
  {
   "cell_type": "code",
   "execution_count": null,
   "metadata": {},
   "outputs": [],
   "source": [
    "# Create a clean DataFrame by dropping the duplicate mouse by its ID.\n",
    "mask2 = df[\"Mouse ID\"] != \"g989\"\n",
    "the_df = df.loc[mask2].reset_index(drop=True)\n",
    "the_df.info()"
   ]
  },
  {
   "cell_type": "code",
   "execution_count": null,
   "metadata": {},
   "outputs": [],
   "source": [
    "the_df.describe()"
   ]
  },
  {
   "cell_type": "code",
   "execution_count": null,
   "metadata": {},
   "outputs": [],
   "source": [
    "# Checking the number of mice in the clean DataFrame.\n",
    "the_df['Mouse ID'].nunique()"
   ]
  },
  {
   "cell_type": "code",
   "execution_count": null,
   "metadata": {},
   "outputs": [],
   "source": [
    "the_df.head()"
   ]
  },
  {
   "cell_type": "markdown",
   "metadata": {},
   "source": [
    "## Summary Statistics"
   ]
  },
  {
   "cell_type": "code",
   "execution_count": null,
   "metadata": {},
   "outputs": [],
   "source": [
    "# Generate a summary statistics table of mean, median, variance, standard deviation, \n",
    "# and SEM of the tumor volume for each regimen\n",
    "\n",
    "# Use groupby and summary statistical methods to calculate the following properties of each drug regimen: \n",
    "# mean, median, variance, standard deviation, and SEM of the tumor volume. \n",
    "# Assemble the resulting series into a single summary dataframe.\n",
    "\n",
    "drug_grouped = the_df.groupby('Drug Regimen')\n",
    "\n",
    "avg_tumor = drug_grouped['Tumor Volume (mm3)'].mean()\n",
    "med_tumor = drug_grouped['Tumor Volume (mm3)'].median()\n",
    "var_tumor = drug_grouped['Tumor Volume (mm3)'].var()\n",
    "stdev_tumor = drug_grouped['Tumor Volume (mm3)'].std()\n",
    "sem_tumor = drug_grouped['Tumor Volume (mm3)'].sem()\n",
    "\n",
    "tumor_table = pd.DataFrame()\n",
    "tumor_table['Mean Tumor Volume'] = avg_tumor\n",
    "tumor_table['Median Tumor Volume'] = med_tumor\n",
    "tumor_table['Variance of Tumor Volume'] = var_tumor\n",
    "tumor_table['Standard Deviation of Tumor Volume'] = stdev_tumor\n",
    "tumor_table['Standard Error of Tumor Volume'] = sem_tumor\n",
    "tumor_table"
   ]
  },
  {
   "cell_type": "code",
   "execution_count": null,
   "metadata": {},
   "outputs": [],
   "source": [
    "the_df.groupby(\"Drug Regimen\").size()"
   ]
  },
  {
   "cell_type": "code",
   "execution_count": null,
   "metadata": {},
   "outputs": [],
   "source": [
    "# Generate a summary statistics table of mean, median, variance, standard deviation, \n",
    "# and SEM of the tumor volume for each regimen\n",
    "# Using the aggregation method, produce the same summary statistics in a single line\n",
    "drug_grouped['Tumor Volume (mm3)'].agg(['mean', 'median', 'var', 'std', 'sem'])"
   ]
  },
  {
   "cell_type": "markdown",
   "metadata": {},
   "source": [
    "## Bar and Pie Charts"
   ]
  },
  {
   "cell_type": "code",
   "execution_count": null,
   "metadata": {},
   "outputs": [],
   "source": [
    "# Generate a bar plot showing the total number of unique mice tested on each drug regimen using pandas.\n",
    "plt.figure(figsize=(10,6))\n",
    "\n",
    "the_df['Drug Regimen'].value_counts().plot(kind = 'bar', color = \"indigo\")\n",
    "\n",
    "plt.title(\"Number of Unique Timepoints per Drug\", fontsize=18, fontweight = 'bold')\n",
    "plt.xlabel('Drug Regimen', fontsize=16)\n",
    "plt.ylabel('Number of Unique Timepoints', fontsize=16)\n",
    "plt.show()"
   ]
  },
  {
   "cell_type": "code",
   "execution_count": null,
   "metadata": {},
   "outputs": [],
   "source": [
    "# Generate a bar plot showing the total number of unique mice tested on each drug regimen using pyplot.\n",
    "mice_drugged = the_df['Drug Regimen'].value_counts()\n",
    "\n",
    "x = mice_drugged.index\n",
    "y = mice_drugged.values\n",
    "\n",
    "plt.figure(figsize=(10,6))\n",
    "plt.bar(x, y, color='indigo')\n",
    "plt.title(\"Number of Unique Timepoints per Drug\", fontsize=18, fontweight = 'bold')\n",
    "plt.xlabel('Drug Regimen', fontsize=16)\n",
    "plt.ylabel('Number of Unique Timepoints', fontsize=16)\n",
    "plt.show()"
   ]
  },
  {
   "cell_type": "code",
   "execution_count": null,
   "metadata": {},
   "outputs": [],
   "source": [
    "# Generate a pie plot showing the distribution of female versus male mice using pandas\n",
    "the_df.groupby(\"Sex\")[\"Mouse ID\"].count().plot(kind='pie')"
   ]
  },
  {
   "cell_type": "code",
   "execution_count": null,
   "metadata": {},
   "outputs": [],
   "source": [
    "# Generate a pie plot showing the distribution of female versus male mice using pyplot\n",
    "genders = the_df.groupby(\"Sex\")[\"Mouse ID\"].count()\n",
    "gender = list(genders.index)\n",
    "gender_total = list(genders.values)\n",
    "\n",
    "colors = ['indigo', 'forestgreen']\n",
    "plt.pie(gender_total, labels=gender, colors=colors)\n",
    "plt.axis(\"equal\")\n",
    "plt.show()"
   ]
  },
  {
   "cell_type": "markdown",
   "metadata": {},
   "source": [
    "## Quartiles, Outliers and Boxplots"
   ]
  },
  {
   "cell_type": "code",
   "execution_count": null,
   "metadata": {},
   "outputs": [],
   "source": [
    "# Calculate the final tumor volume of each mouse across four of the treatment regimens:  \n",
    "# Capomulin, Ramicane, Infubinol, and Ceftamin\n",
    "\n",
    "# Start by getting the last (greatest) timepoint for each mouse\n",
    "max_tumor = the_df.groupby(['Mouse ID'])['Timepoint'].max()\n",
    "max_tumor = max_tumor.reset_index()\n",
    "\n",
    "# Merge this group df with the original dataframe to get the tumor volume at the last timepoint\n",
    "merged_df = max_tumor.merge(the_df, on=['Mouse ID', 'Timepoint'], how='left')\n",
    "merged_df.rename(columns={\"Tumor Volume (mm3)\": \"Final Tumor Volume (mm3)\"}, inplace=True)\n",
    "merged_df.head(10)"
   ]
  },
  {
   "cell_type": "code",
   "execution_count": null,
   "metadata": {},
   "outputs": [],
   "source": [
    "# Put treatments into a list for for loop (and later for plot labels)\n",
    "treatments = [\"Capomulin\", \"Ramicane\", \"Infubinol\", \"Ceftamin\"]\n",
    "\n",
    "# Create empty list to fill with tumor vol data (for plotting)\n",
    "drug_data = []\n",
    "\n",
    "for drugs in treatments:\n",
    "    data = merged_df.loc[merged_df[\"Drug Regimen\"] == drugs, \"Final Tumor Volume (mm3)\"]\n",
    "    \n",
    "    # If the data is in a dataframe, we use pandas to give quartile calculations\n",
    "    quartiles = data.quantile([.25,.5,.75])\n",
    "    lowerq = quartiles[0.25]\n",
    "    upperq = quartiles[0.75]\n",
    "    iqr = upperq-lowerq\n",
    "    \n",
    "    print(drugs)\n",
    "    print()\n",
    "    print(f\"The lower quartile of the tumor volumes is: {lowerq}\")\n",
    "    print(f\"The upper quartile of the tumor volumes is: {upperq}\")\n",
    "    print(f\"The interquartile range of the tumor volumes is: {iqr}\")\n",
    "    print(f\"The the median of the tumor volumes is: {quartiles[0.5]} \")\n",
    "\n",
    "    lower_bound = lowerq - (1.5*iqr)\n",
    "    upper_bound = upperq + (1.5*iqr)\n",
    "    print(f\"Values below {lower_bound} could be outliers.\")\n",
    "    print(f\"Values above {upper_bound} could be outliers.\")\n",
    "    \n",
    "    print()\n",
    "    print()\n",
    "\n",
    "    drug_data.append(data.values)\n",
    "\n",
    "\n",
    "\n",
    "# Calculate the IQR and quantitatively determine if there are any potential outliers. \n",
    "\n",
    "    \n",
    "    # Locate the rows which contain mice on each drug and get the tumor volumes\n",
    "    \n",
    "    \n",
    "    # add subset \n",
    "    \n",
    "    \n",
    "    # Determine outliers using upper and lower bounds\n",
    "    "
   ]
  },
  {
   "cell_type": "code",
   "execution_count": null,
   "metadata": {},
   "outputs": [],
   "source": [
    "# Generate a box plot of the final tumor volume of each mouse across four regimens of interest\n",
    "plt.figure(figsize=(10,6))\n",
    "plt.boxplot(drug_data, labels = treatments)\n",
    "\n",
    "plt.title(\"Final Tumor Volume per Regimen\", fontsize=18, fontweight = 'bold')\n",
    "plt.ylabel('Tumor Volume')\n",
    "plt.show()"
   ]
  },
  {
   "cell_type": "markdown",
   "metadata": {},
   "source": [
    "## Line and Scatter Plots"
   ]
  },
  {
   "cell_type": "code",
   "execution_count": null,
   "metadata": {},
   "outputs": [],
   "source": [
    "# Generate a line plot of tumor volume vs. time point for a mouse treated with Capomulin\n",
    "plt.figure(figsize=(10,6))\n",
    "mouse = the_df.loc[the_df['Mouse ID'] == \"x401\"].reset_index(drop=True)\n",
    "\n",
    "x = mouse.Timepoint\n",
    "y = mouse[\"Tumor Volume (mm3)\"]\n",
    "\n",
    "\n",
    "plt.plot(x, y, color='indigo')\n",
    "plt.title(\"Mouse X401 Tumor Size\", fontsize=18, fontweight = 'bold')\n",
    "plt.xlabel('Time', fontsize=16)\n",
    "plt.ylabel('Size of Tumor', fontsize=16)\n",
    "plt.show()"
   ]
  },
  {
   "cell_type": "code",
   "execution_count": null,
   "metadata": {},
   "outputs": [],
   "source": [
    "# Generate a scatter plot of average tumor volume vs. mouse weight for the Capomulin regimen\n",
    "plt.figure(figsize=(10,6))\n",
    "\n",
    "cap_weight_df = the_df.loc[the_df['Drug Regimen'] == \"Capomulin\"].groupby('Mouse ID')[\"Weight (g)\", \"Tumor Volume (mm3)\"].mean().reset_index()\n",
    "\n",
    "x = cap_weight_df['Weight (g)']\n",
    "y = cap_weight_df['Tumor Volume (mm3)']\n",
    "\n",
    "plt.scatter(x, y, color='indigo')\n",
    "plt.title(\"Average Tumor Volume vs Mouse Weight on Capomulin\", fontsize=18, fontweight = 'bold')\n",
    "plt.xlabel('Weight (g)', fontsize=16)\n",
    "plt.ylabel('Size of Tumor', fontsize=16)\n",
    "plt.show()"
   ]
  },
  {
   "cell_type": "markdown",
   "metadata": {},
   "source": [
    "## Correlation and Regression"
   ]
  },
  {
   "cell_type": "code",
   "execution_count": null,
   "metadata": {},
   "outputs": [],
   "source": [
    "# Calculate the correlation coefficient and linear regression model \n",
    "# for mouse weight and average tumor volume for the Capomulin regimen\n",
    "cap_weight_df.corr()"
   ]
  },
  {
   "cell_type": "code",
   "execution_count": null,
   "metadata": {},
   "outputs": [],
   "source": [
    "sts.pearsonr(cap_weight_df['Weight (g)'], cap_weight_df[\"Tumor Volume (mm3)\"])"
   ]
  },
  {
   "cell_type": "code",
   "execution_count": null,
   "metadata": {},
   "outputs": [],
   "source": [
    "(slope, intercept, rvalue, pvalue, stderr) = sts.linregress(x, y)\n",
    "regress_values = x * slope + intercept\n",
    "line_eq = \"y = \" + str(round(slope,2)) + \"x + \" + str(round(intercept,2))\n",
    "print(line_eq)\n",
    "print(f\"The r-squared is: {rvalue**2}\")\n",
    "\n",
    "plt.figure(figsize=(10,6))\n",
    "\n",
    "plt.scatter(x, y, color = \"indigo\")\n",
    "plt.title(\"Capomulin Mice Weight vs Tumor Size\", fontsize=18, fontweight=\"bold\")\n",
    "plt.xlabel(\"Mouse Weight (g)\")\n",
    "plt.ylabel(\"Tumor Size (mm3)\")\n",
    "plt.plot(x, regress_values, color=\"forestgreen\")\n",
    "plt.annotate(line_eq,(22,36),fontsize=15,color=\"indigo\")\n",
    "\n",
    "plt.show()"
   ]
  }
 ],
 "metadata": {
  "anaconda-cloud": {},
  "kernelspec": {
   "display_name": "Python 3",
   "language": "python",
   "name": "python3"
  },
  "language_info": {
   "codemirror_mode": {
    "name": "ipython",
    "version": 3
   },
   "file_extension": ".py",
   "mimetype": "text/x-python",
   "name": "python",
   "nbconvert_exporter": "python",
   "pygments_lexer": "ipython3",
   "version": "3.8.3"
  }
 },
 "nbformat": 4,
 "nbformat_minor": 4
}
